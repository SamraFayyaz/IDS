 20 marks
{
 "cells": [
  {
   "cell_type": "markdown",
   "id": "0af94d3b",
   "metadata": {},
   "source": [
    "Name: Muhammad Usama Farid Chaudhry\n",
    "Reg No.: L1S21BSCS0046"
   ]
  },
  {
   "cell_type": "code",
   "execution_count": 1,
   "id": "a809494e",
   "metadata": {},
   "outputs": [],
   "source": [
    "import numpy as np\n",
    "import pandas as pd\n",
    "from sklearn import preprocessing\n",
    "from sklearn.model_selection import train_test_split"
   ]
  },
  {
   "cell_type": "code",
   "execution_count": 2,
   "id": "db4dfbdc",
   "metadata": {},
   "outputs": [],
   "source": [
    "data = pd.read_csv(\"teleCust1000t.csv\")\n",
    "X = data[['region', 'tenure','age', 'marital', 'address', 'income', 'ed', 'employ','retire', 'gender', 'reside']] .values  #.astype(float)\n",
    "y = data['custcat'].values\n",
    "X = preprocessing.StandardScaler().fit(X).transform(X.astype(float))"
   ]
  },
  {
   "cell_type": "code",
   "execution_count": 3,
   "id": "a7fc46f9",
   "metadata": {},
   "outputs": [
    {
     "name": "stdout",
     "output_type": "stream",
     "text": [
      "Train set: (800, 11) (800,)\n",
      "Test set: (200, 11) (200,)\n"
     ]
    }
   ],
   "source": [
    "X_train, X_test, y_train, y_test = train_test_split(X, y, test_size=0.2, random_state=4)\n",
    "print ('Train set:', X_train.shape,  y_train.shape)\n",
    "print ('Test set:', X_test.shape,  y_test.shape)"
   ]
  },
  {
   "cell_type": "code",
   "execution_count": 4,
   "id": "d27e3cc5",
   "metadata": {},
   "outputs": [
    {
     "name": "stdout",
     "output_type": "stream",
     "text": [
      "Outcome:  3\n",
      "Accuracy:  0.3\n"
     ]
    }
   ],
   "source": [
    "def knn_predict(inputX, neighbors):\n",
    "    required_values = X_train.shape[1]\n",
    "    provided_values = len(inputX)\n",
    "    if provided_values != required_values:\n",
    "        print(\"Not enough values provided.\")\n",
    "        return -1\n",
    "    distances = []\n",
    "    for i,row in enumerate(X_train):\n",
    "        d = np.sum((row - inputX)**2)\n",
    "        distances.append((d,y_train[i]))\n",
    "    distances.sort(key = lambda d: d[0])\n",
    "    possible_outcomes = {}\n",
    "    for i in range(neighbors):\n",
    "        val = distances[i][1]\n",
    "        if val in possible_outcomes:\n",
    "            possible_outcomes[val] += 1\n",
    "        else:\n",
    "            possible_outcomes[val] = 1\n",
    "    outcome = max(possible_outcomes, key = possible_outcomes.get)\n",
    "    return outcome\n",
    "\n",
    "def accuracy(neighbors):\n",
    "    total_rows = X_test.shape[0]\n",
    "    correct = 0\n",
    "    i = 0\n",
    "    for row in X_test:\n",
    "        outcome = knn_predict(row, neighbors)\n",
    "        if outcome == y_test[i]:\n",
    "            correct += 1\n",
    "        i += 1\n",
    "    acc = correct/total_rows\n",
    "    return acc\n",
    "k = 5\n",
    "print(\"Outcome: \", knn_predict(X_test[0], k))\n",
    "print(\"Accuracy: \", accuracy(k))"
   ]
  },
  {
   "cell_type": "code",
   "execution_count": null,
   "id": "67f0c902",
   "metadata": {},
   "outputs": [],
   "source": []
  }
 ],
 "metadata": {
  "kernelspec": {
   "display_name": "Python 3 (ipykernel)",
   "language": "python",
   "name": "python3"
  },
  "language_info": {
   "codemirror_mode": {
    "name": "ipython",
    "version": 3
   },
   "file_extension": ".py",
   "mimetype": "text/x-python",
   "name": "python",
   "nbconvert_exporter": "python",
   "pygments_lexer": "ipython3",
   "version": "3.11.5"
  }
 },
 "nbformat": 4,
 "nbformat_minor": 5
}

